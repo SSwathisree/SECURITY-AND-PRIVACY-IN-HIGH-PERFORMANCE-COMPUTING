{
  "nbformat": 4,
  "nbformat_minor": 0,
  "metadata": {
    "colab": {
      "provenance": [],
      "gpuType": "T4"
    },
    "kernelspec": {
      "name": "python3",
      "display_name": "Python 3"
    },
    "language_info": {
      "name": "python"
    },
    "accelerator": "GPU"
  },
  "cells": [
    {
      "cell_type": "code",
      "source": [
        "import numpy as np\n",
        "import pandas as pd\n",
        "from sklearn.model_selection import train_test_split\n",
        "from tensorflow.keras.preprocessing.text import Tokenizer\n",
        "from tensorflow.keras.preprocessing.sequence import pad_sequences\n",
        "from tensorflow.keras.models import Sequential, load_model\n",
        "from tensorflow.keras.layers import Embedding, Conv1D, GlobalMaxPooling1D, Dense, Dropout\n",
        "from tensorflow.keras.callbacks import EarlyStopping, ReduceLROnPlateau, Callback\n",
        "import matplotlib.pyplot as plt\n",
        "import time\n",
        "\n",
        "# Load the dataset (assuming it's in a CSV file with 'url' and 'label' columns)\n",
        "data = pd.read_csv(\"/content/balanced_urls.csv\")\n",
        "\n",
        "# Tokenization and vectorization\n",
        "tokenizer = Tokenizer()\n",
        "tokenizer.fit_on_texts(data['url'])\n",
        "sequences = tokenizer.texts_to_sequences(data['url'])\n",
        "word_index = tokenizer.word_index\n",
        "max_sequence_length = max([len(seq) for seq in sequences])\n",
        "X = pad_sequences(sequences, maxlen=max_sequence_length)\n",
        "y = np.array(data['label'])\n",
        "\n",
        "# Split the data into training, validation, and testing sets\n",
        "X_train, X_test, y_train, y_test = train_test_split(X, y, test_size=0.3, random_state=42)  # Increase test size to 30%\n",
        "X_train, X_val, y_train, y_val = train_test_split(X_train, y_train, test_size=0.2, random_state=42)\n",
        "\n",
        "class TimeHistory(Callback):\n",
        "    def on_train_begin(self, logs={}):\n",
        "        self.times = []\n",
        "\n",
        "    def on_epoch_begin(self, epoch, logs={}):\n",
        "        self.epoch_start_time = time.time()\n",
        "\n",
        "    def on_epoch_end(self, epoch, logs={}):\n",
        "        self.times.append(time.time() - self.epoch_start_time)\n",
        "\n",
        "# Model architecture\n",
        "model = Sequential()\n",
        "model.add(Embedding(len(word_index) + 1, 50, input_length=max_sequence_length))\n",
        "model.add(Conv1D(32, 3, activation='relu'))\n",
        "model.add(GlobalMaxPooling1D())\n",
        "model.add(Dense(16, activation='relu'))\n",
        "model.add(Dropout(0.5))  # Dropout layer added\n",
        "model.add(Dense(1, activation='sigmoid'))\n",
        "\n",
        "model.compile(optimizer='adam', loss='binary_crossentropy', metrics=['accuracy'])\n",
        "model.summary()\n",
        "\n",
        "# Training callbacks\n",
        "early_stopping = EarlyStopping(monitor='val_loss', patience=3, restore_best_weights=True)\n",
        "reduce_lr = ReduceLROnPlateau(monitor='val_loss', factor=0.2, patience=2, min_lr=1e-6)\n",
        "time_history = TimeHistory()\n",
        "\n",
        "# Train the model\n",
        "history = model.fit(X_train, y_train, epochs=20, batch_size=128, validation_data=(X_val, y_val), callbacks=[early_stopping, reduce_lr, time_history])\n",
        "\n",
        "# Plot time taken vs process completed\n",
        "plt.figure(figsize=(10, 5))\n",
        "\n",
        "epochs = range(1, len(history.history['accuracy']) + 1)\n",
        "times = time_history.times\n",
        "\n",
        "plt.plot(epochs, times, 'bo', label='Epochs vs Time Taken', color='blue')\n",
        "plt.title('Time Taken vs Process Completed')\n",
        "plt.xlabel('Epochs')\n",
        "plt.ylabel('Time Taken (s)')\n",
        "plt.legend()\n",
        "plt.grid(True)\n",
        "\n",
        "plt.show()\n"
      ],
      "metadata": {
        "colab": {
          "base_uri": "https://localhost:8080/",
          "height": 1000
        },
        "id": "3DnsJMdXKwTb",
        "outputId": "63bc6b03-5794-4174-dccf-3755b1effe98"
      },
      "execution_count": 1,
      "outputs": [
        {
          "output_type": "stream",
          "name": "stdout",
          "text": [
            "Model: \"sequential\"\n",
            "_________________________________________________________________\n",
            " Layer (type)                Output Shape              Param #   \n",
            "=================================================================\n",
            " embedding (Embedding)       (None, 178, 50)           27035350  \n",
            "                                                                 \n",
            " conv1d (Conv1D)             (None, 176, 32)           4832      \n",
            "                                                                 \n",
            " global_max_pooling1d (Glob  (None, 32)                0         \n",
            " alMaxPooling1D)                                                 \n",
            "                                                                 \n",
            " dense (Dense)               (None, 16)                528       \n",
            "                                                                 \n",
            " dropout (Dropout)           (None, 16)                0         \n",
            "                                                                 \n",
            " dense_1 (Dense)             (None, 1)                 17        \n",
            "                                                                 \n",
            "=================================================================\n",
            "Total params: 27040727 (103.15 MB)\n",
            "Trainable params: 27040727 (103.15 MB)\n",
            "Non-trainable params: 0 (0.00 Byte)\n",
            "_________________________________________________________________\n",
            "Epoch 1/20\n",
            "2768/2768 [==============================] - 2015s 725ms/step - loss: 0.0518 - accuracy: 0.9855 - val_loss: 0.0076 - val_accuracy: 0.9980 - lr: 0.0010\n",
            "Epoch 2/20\n",
            "2768/2768 [==============================] - 1977s 714ms/step - loss: 0.0175 - accuracy: 0.9952 - val_loss: 0.0094 - val_accuracy: 0.9980 - lr: 0.0010\n",
            "Epoch 3/20\n",
            "2768/2768 [==============================] - 1980s 715ms/step - loss: 0.0130 - accuracy: 0.9961 - val_loss: 0.0119 - val_accuracy: 0.9981 - lr: 0.0010\n",
            "Epoch 4/20\n",
            "2768/2768 [==============================] - 1978s 715ms/step - loss: 0.0126 - accuracy: 0.9960 - val_loss: 0.0135 - val_accuracy: 0.9982 - lr: 2.0000e-04\n"
          ]
        },
        {
          "output_type": "stream",
          "name": "stderr",
          "text": [
            "<ipython-input-1-ac19cdb2e20c>:64: UserWarning: color is redundantly defined by the 'color' keyword argument and the fmt string \"bo\" (-> color='b'). The keyword argument will take precedence.\n",
            "  plt.plot(epochs, times, 'bo', label='Epochs vs Time Taken', color='blue')\n"
          ]
        },
        {
          "output_type": "display_data",
          "data": {
            "text/plain": [
              "<Figure size 1000x500 with 1 Axes>"
            ],
            "image/png": "[encoded data removed]"
          },
          "metadata": {}
        }
      ]
    },
    {
      "cell_type": "code",
      "source": [
        "model.save(\"TP4_trained_model.h5\")"
      ],
      "metadata": {
        "id": "mYKWAHegyvUl"
      },
      "execution_count": null,
      "outputs": []
    },
    {
      "cell_type": "code",
      "source": [
        "# Load the saved model\n",
        "from tensorflow.keras.models import load_model\n",
        "\n",
        "saved_model = load_model(\"TP4_trained_model.h5\")\n",
        "\n",
        "# Evaluate the model on the test data\n",
        "loss, accuracy = saved_model.evaluate(X_test, y_test)\n",
        "print(\"Test Loss:\", loss)\n",
        "print(\"Test Accuracy:\", accuracy)"
      ],
      "metadata": {
        "colab": {
          "base_uri": "https://localhost:8080/"
        },
        "id": "efvwvNG91s9j",
        "outputId": "9ba1c23e-aa59-4495-cccf-b4b3436e0374"
      },
      "execution_count": 3,
      "outputs": [
        {
          "output_type": "stream",
          "name": "stdout",
          "text": [
            "5930/5930 [==============================] - 24s 4ms/step - loss: 0.0074 - accuracy: 0.9978\n",
            "Test Loss: 0.007384007330983877\n",
            "Test Accuracy: 0.9977813363075256\n"
          ]
        }
      ]
    },
    {
      "cell_type": "code",
      "source": [
        "def is_url_safe(url):\n",
        "    # Preprocess the URL\n",
        "    url_sequence = tokenizer.texts_to_sequences([url])\n",
        "    url_sequence_padded = pad_sequences(url_sequence, maxlen=max_sequence_length)\n",
        "\n",
        "    # Predict the safety of the URL using the trained model\n",
        "    prediction = saved_model.predict(url_sequence_padded)\n",
        "\n",
        "    # Convert prediction to human-readable format\n",
        "    if prediction[0][0] >= 0.5:\n",
        "        return \"Safe\"\n",
        "    else:\n",
        "        return \"Unsafe\"\n",
        "\n",
        "# Get URL from the user\n",
        "user_url = input(\"Enter the URL to check: \")\n",
        "\n",
        "# Check the safety of the URL\n",
        "safety_result = is_url_safe(user_url)\n",
        "print(\"URL Safety:\", safety_result)"
      ],
      "metadata": {
        "colab": {
          "base_uri": "https://localhost:8080/"
        },
        "id": "v48n08y12O0Z",
        "outputId": "61446918-4a01-40b0-e551-cae2b38de8d9"
      },
      "execution_count": 4,
      "outputs": [
        {
          "output_type": "stream",
          "name": "stdout",
          "text": [
            "Enter the URL to check: http://www.google.com/\n",
            "1/1 [==============================] - 0s 233ms/step\n",
            "URL Safety: Safe\n"
          ]
        }
      ]
    },
    {
      "cell_type": "code",
      "source": [
        "def is_url_safe(url):\n",
        "    # Preprocess the URL\n",
        "    url_sequence = tokenizer.texts_to_sequences([url])\n",
        "    url_sequence_padded = pad_sequences(url_sequence, maxlen=max_sequence_length)\n",
        "\n",
        "    # Predict the safety of the URL using the trained model\n",
        "    prediction = saved_model.predict(url_sequence_padded)\n",
        "\n",
        "    # Convert prediction to human-readable format\n",
        "    if prediction[0][0] >= 0.5:\n",
        "        return \"Safe\"\n",
        "    else:\n",
        "        return \"Unsafe\"\n",
        "\n",
        "# Get URL from the user\n",
        "user_url = input(\"Enter the URL to check: \")\n",
        "\n",
        "# Check the safety of the URL\n",
        "safety_result = is_url_safe(user_url)\n",
        "print(\"URL Safety:\", safety_result)"
      ],
      "metadata": {
        "colab": {
          "base_uri": "https://localhost:8080/"
        },
        "id": "nKlFomq-2Twr",
        "outputId": "71be6799-cc71-43b4-ed8c-a8bdb0ea3fae"
      },
      "execution_count": 5,
      "outputs": [
        {
          "output_type": "stream",
          "name": "stdout",
          "text": [
            "Enter the URL to check: https://vtopcc.vit.ac.in/vtop/open/page\n",
            "1/1 [==============================] - 0s 20ms/step\n",
            "URL Safety: Safe\n"
          ]
        }
      ]
    },
    {
      "cell_type": "code",
      "source": [
        "def is_url_safe(url):\n",
        "    # Preprocess the URL\n",
        "    url_sequence = tokenizer.texts_to_sequences([url])\n",
        "    url_sequence_padded = pad_sequences(url_sequence, maxlen=max_sequence_length)\n",
        "\n",
        "    # Predict the safety of the URL using the trained model\n",
        "    prediction = saved_model.predict(url_sequence_padded)\n",
        "\n",
        "    # Convert prediction to human-readable format\n",
        "    if prediction[0][0] >= 0.5:\n",
        "        return \"Safe\"\n",
        "    else:\n",
        "        return \"Unsafe\"\n",
        "\n",
        "# Get URL from the user\n",
        "user_url = input(\"Enter the URL to check: \")\n",
        "\n",
        "# Check the safety of the URL\n",
        "safety_result = is_url_safe(user_url)\n",
        "print(\"URL Safety:\", safety_result)"
      ],
      "metadata": {
        "colab": {
          "base_uri": "https://localhost:8080/"
        },
        "id": "013FyzVX2Ykc",
        "outputId": "2aea55f7-5dc2-4726-baaf-eb9701239921"
      },
      "execution_count": 6,
      "outputs": [
        {
          "output_type": "stream",
          "name": "stdout",
          "text": [
            "Enter the URL to check: https://www.bpwhamburgorchardpark.org/\n",
            "1/1 [==============================] - 0s 21ms/step\n",
            "URL Safety: Unsafe\n"
          ]
        }
      ]
    },
    {
      "cell_type": "code",
      "source": [
        "def is_url_safe(url):\n",
        "    # Preprocess the URL\n",
        "    url_sequence = tokenizer.texts_to_sequences([url])\n",
        "    url_sequence_padded = pad_sequences(url_sequence, maxlen=max_sequence_length)\n",
        "\n",
        "    # Predict the safety of the URL using the trained model\n",
        "    prediction = saved_model.predict(url_sequence_padded)\n",
        "\n",
        "    # Convert prediction to human-readable format\n",
        "    if prediction[0][0] >= 0.5:\n",
        "        return \"Safe\"\n",
        "    else:\n",
        "        return \"Unsafe\"\n",
        "\n",
        "# Get URL from the user\n",
        "user_url = input(\"Enter the URL to check: \")\n",
        "\n",
        "# Check the safety of the URL\n",
        "safety_result = is_url_safe(user_url)\n",
        "print(\"URL Safety:\", safety_result)"
      ],
      "metadata": {
        "colab": {
          "base_uri": "https://localhost:8080/"
        },
        "id": "MAZAUXBh2cFB",
        "outputId": "1b29f2ea-e43c-4e26-b7f3-d99b32c4dd1e"
      },
      "execution_count": 8,
      "outputs": [
        {
          "output_type": "stream",
          "name": "stdout",
          "text": [
            "Enter the URL to check: https://www.yt118.com/\n",
            "1/1 [==============================] - 0s 20ms/step\n",
            "URL Safety: Unsafe\n"
          ]
        }
      ]
    },
    {
      "cell_type": "code",
      "source": [
        "def is_url_safe(url):\n",
        "    # Preprocess the URL\n",
        "    url_sequence = tokenizer.texts_to_sequences([url])\n",
        "    url_sequence_padded = pad_sequences(url_sequence, maxlen=max_sequence_length)\n",
        "\n",
        "    # Predict the safety of the URL using the trained model\n",
        "    prediction = saved_model.predict(url_sequence_padded)\n",
        "\n",
        "    # Convert prediction to human-readable format\n",
        "    if prediction[0][0] >= 0.5:\n",
        "        return \"Safe\"\n",
        "    else:\n",
        "        return \"Unsafe\"\n",
        "\n",
        "# Get URL from the user\n",
        "user_url = input(\"Enter the URL to check: \")\n",
        "\n",
        "# Check the safety of the URL\n",
        "safety_result = is_url_safe(user_url)\n",
        "print(\"URL Safety:\", safety_result)"
      ],
      "metadata": {
        "id": "PFNuzNDK20o4"
      },
      "execution_count": null,
      "outputs": []
    }
  ]
}