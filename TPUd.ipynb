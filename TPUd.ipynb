{
  "nbformat": 4,
  "nbformat_minor": 0,
  "metadata": {
    "colab": {
      "provenance": []
    },
    "kernelspec": {
      "name": "python3",
      "display_name": "Python 3"
    },
    "language_info": {
      "name": "python"
    },
    "accelerator": "TPU"
  },
  "cells": [
    {
      "cell_type": "code",
      "execution_count": 1,
      "metadata": {
        "colab": {
          "base_uri": "https://localhost:8080/",
          "height": 1000
        },
        "id": "oeDxV0SmLK1m",
        "outputId": "6effee08-63c2-41ba-a3fb-c0328afc4e80"
      },
      "outputs": [
        {
          "output_type": "stream",
          "name": "stdout",
          "text": [
            "Model: \"sequential\"\n",
            "_________________________________________________________________\n",
            " Layer (type)                Output Shape              Param #   \n",
            "=================================================================\n",
            " embedding (Embedding)       (None, 178, 50)           27035350  \n",
            "                                                                 \n",
            " conv1d (Conv1D)             (None, 176, 32)           4832      \n",
            "                                                                 \n",
            " global_max_pooling1d (Glob  (None, 32)                0         \n",
            " alMaxPooling1D)                                                 \n",
            "                                                                 \n",
            " dense (Dense)               (None, 16)                528       \n",
            "                                                                 \n",
            " dropout (Dropout)           (None, 16)                0         \n",
            "                                                                 \n",
            " dense_1 (Dense)             (None, 1)                 17        \n",
            "                                                                 \n",
            "=================================================================\n",
            "Total params: 27040727 (103.15 MB)\n",
            "Trainable params: 27040727 (103.15 MB)\n",
            "Non-trainable params: 0 (0.00 Byte)\n",
            "_________________________________________________________________\n",
            "Epoch 1/20\n",
            "2768/2768 [==============================] - 1890s 682ms/step - loss: 0.0348 - accuracy: 0.9917 - val_loss: 0.0077 - val_accuracy: 0.9978 - lr: 0.0010\n",
            "Epoch 2/20\n",
            "2768/2768 [==============================] - 1886s 681ms/step - loss: 0.0089 - accuracy: 0.9972 - val_loss: 0.0079 - val_accuracy: 0.9981 - lr: 0.0010\n",
            "Epoch 3/20\n",
            "2768/2768 [==============================] - 1885s 681ms/step - loss: 0.0058 - accuracy: 0.9978 - val_loss: 0.0101 - val_accuracy: 0.9982 - lr: 0.0010\n",
            "Epoch 4/20\n",
            "2768/2768 [==============================] - 1891s 683ms/step - loss: 0.0053 - accuracy: 0.9979 - val_loss: 0.0111 - val_accuracy: 0.9982 - lr: 2.0000e-04\n",
            "Training Time: 7551.971150875092 seconds\n"
          ]
        },
        {
          "output_type": "stream",
          "name": "stderr",
          "text": [
            "<ipython-input-1-ebce9d04c985>:67: UserWarning: color is redundantly defined by the 'color' keyword argument and the fmt string \"bo\" (-> color='b'). The keyword argument will take precedence.\n",
            "  plt.plot(epochs, times, 'bo', label='Epochs vs Time Taken', color='blue')\n"
          ]
        },
        {
          "output_type": "display_data",
          "data": {
            "text/plain": [
              "<Figure size 1000x500 with 1 Axes>"
            ],
            "image/png": "[encoded data removed]"
          },
          "metadata": {}
        }
      ],
      "source": [
        "import numpy as np\n",
        "import pandas as pd\n",
        "from sklearn.model_selection import train_test_split\n",
        "from tensorflow.keras.preprocessing.text import Tokenizer\n",
        "from tensorflow.keras.preprocessing.sequence import pad_sequences\n",
        "from tensorflow.keras.models import Sequential\n",
        "from tensorflow.keras.layers import Embedding, Conv1D, GlobalMaxPooling1D, Dense, Dropout\n",
        "from tensorflow.keras.callbacks import EarlyStopping, ReduceLROnPlateau, Callback\n",
        "import matplotlib.pyplot as plt\n",
        "import time\n",
        "\n",
        "# Load the dataset (assuming it's in a CSV file with 'url' and 'label' columns)\n",
        "data = pd.read_csv(\"/content/balanced_urls.csv\")\n",
        "\n",
        "# Tokenization and vectorization\n",
        "tokenizer = Tokenizer()\n",
        "tokenizer.fit_on_texts(data['url'])\n",
        "sequences = tokenizer.texts_to_sequences(data['url'])\n",
        "word_index = tokenizer.word_index\n",
        "max_sequence_length = max([len(seq) for seq in sequences])\n",
        "X = pad_sequences(sequences, maxlen=max_sequence_length)\n",
        "y = np.array(data['label'])\n",
        "\n",
        "# Split the data into training, validation, and testing sets\n",
        "X_train, X_test, y_train, y_test = train_test_split(X, y, test_size=0.3, random_state=42)  # Increase test size to 30%\n",
        "X_train, X_val, y_train, y_val = train_test_split(X_train, y_train, test_size=0.2, random_state=42)\n",
        "\n",
        "class TimeHistory(Callback):\n",
        "    def on_train_begin(self, logs={}):\n",
        "        self.times = []\n",
        "\n",
        "    def on_epoch_begin(self, epoch, logs={}):\n",
        "        self.epoch_start_time = time.time()\n",
        "\n",
        "    def on_epoch_end(self, epoch, logs={}):\n",
        "        self.times.append(time.time() - self.epoch_start_time)\n",
        "\n",
        "# Model architecture\n",
        "model = Sequential()\n",
        "model.add(Embedding(len(word_index) + 1, 50, input_length=max_sequence_length))\n",
        "model.add(Conv1D(32, 3, activation='relu'))\n",
        "model.add(GlobalMaxPooling1D())\n",
        "model.add(Dense(16, activation='relu'))\n",
        "model.add(Dropout(0.5))  # Dropout layer added\n",
        "model.add(Dense(1, activation='sigmoid'))\n",
        "\n",
        "model.compile(optimizer='adam', loss='binary_crossentropy', metrics=['accuracy'])\n",
        "model.summary()\n",
        "\n",
        "# Training callbacks\n",
        "early_stopping = EarlyStopping(monitor='val_loss', patience=3, restore_best_weights=True)\n",
        "reduce_lr = ReduceLROnPlateau(monitor='val_loss', factor=0.2, patience=2, min_lr=1e-6)\n",
        "time_history = TimeHistory()\n",
        "\n",
        "# Train the model\n",
        "start_time = time.time()\n",
        "history = model.fit(X_train, y_train, epochs=20, batch_size=128, validation_data=(X_val, y_val), callbacks=[early_stopping, reduce_lr, time_history])\n",
        "end_time = time.time()\n",
        "print(\"Training Time:\", end_time - start_time, \"seconds\")\n",
        "\n",
        "# Plot time taken vs process completed\n",
        "plt.figure(figsize=(10, 5))\n",
        "\n",
        "epochs = range(1, len(history.history['accuracy']) + 1)\n",
        "times = time_history.times\n",
        "\n",
        "plt.plot(epochs, times, 'bo', label='Epochs vs Time Taken', color='blue')\n",
        "plt.title('Time Taken vs Process Completed')\n",
        "plt.xlabel('Epochs')\n",
        "plt.ylabel('Time Taken (s)')\n",
        "plt.legend()\n",
        "plt.grid(True)\n",
        "\n",
        "plt.show()\n"
      ]
    },
    {
      "cell_type": "code",
      "source": [
        "model.save(\"TPUdtrained_model.h5\")"
      ],
      "metadata": {
        "id": "lwksDWefyn2n"
      },
      "execution_count": 3,
      "outputs": []
    },
    {
      "cell_type": "code",
      "source": [
        "# Load the saved model\n",
        "from tensorflow.keras.models import load_model\n",
        "\n",
        "saved_model = load_model(\"TPUdtrained_model.h5\")\n",
        "\n",
        "# Evaluate the model on the test data\n",
        "loss, accuracy = saved_model.evaluate(X_test, y_test)\n",
        "print(\"Test Loss:\", loss)\n",
        "print(\"Test Accuracy:\", accuracy)"
      ],
      "metadata": {
        "colab": {
          "base_uri": "https://localhost:8080/"
        },
        "id": "j9HixqSqzRud",
        "outputId": "959e0d32-bdfd-4aff-b25c-beb5d2c01602"
      },
      "execution_count": 4,
      "outputs": [
        {
          "output_type": "stream",
          "name": "stdout",
          "text": [
            "5930/5930 [==============================] - 24s 4ms/step - loss: 0.0085 - accuracy: 0.9976\n",
            "Test Loss: 0.008465821854770184\n",
            "Test Accuracy: 0.997612714767456\n"
          ]
        }
      ]
    },
    {
      "cell_type": "code",
      "source": [
        "def is_url_safe(url):\n",
        "    # Preprocess the URL\n",
        "    url_sequence = tokenizer.texts_to_sequences([url])\n",
        "    url_sequence_padded = pad_sequences(url_sequence, maxlen=max_sequence_length)\n",
        "\n",
        "    # Predict the safety of the URL using the trained model\n",
        "    prediction = saved_model.predict(url_sequence_padded)\n",
        "\n",
        "    # Convert prediction to human-readable format\n",
        "    if prediction[0][0] >= 0.5:\n",
        "        return \"Safe\"\n",
        "    else:\n",
        "        return \"Unsafe\"\n",
        "\n",
        "# Get URL from the user\n",
        "user_url = input(\"Enter the URL to check: \")\n",
        "\n",
        "# Check the safety of the URL\n",
        "safety_result = is_url_safe(user_url)\n",
        "print(\"URL Safety:\", safety_result)"
      ],
      "metadata": {
        "colab": {
          "base_uri": "https://localhost:8080/"
        },
        "id": "8kVwk6T81LU7",
        "outputId": "316db0c0-2d0a-4ec8-9df3-8a095e04059f"
      },
      "execution_count": 17,
      "outputs": [
        {
          "output_type": "stream",
          "name": "stdout",
          "text": [
            "Enter the URL to check: www.google.com\n",
            "1/1 [==============================] - 0s 20ms/step\n",
            "URL Safety: Safe\n"
          ]
        }
      ]
    },
    {
      "cell_type": "code",
      "source": [
        "def is_url_safe(url):\n",
        "    # Preprocess the URL\n",
        "    url_sequence = tokenizer.texts_to_sequences([url])\n",
        "    url_sequence_padded = pad_sequences(url_sequence, maxlen=max_sequence_length)\n",
        "\n",
        "    # Predict the safety of the URL using the trained model\n",
        "    prediction = saved_model.predict(url_sequence_padded)\n",
        "\n",
        "    # Convert prediction to human-readable format\n",
        "    if prediction[0][0] >= 0.5:\n",
        "        return \"Safe\"\n",
        "    else:\n",
        "        return \"Unsafe\"\n",
        "\n",
        "# Get URL from the user\n",
        "user_url = input(\"Enter the URL to check: \")\n",
        "\n",
        "# Check the safety of the URL\n",
        "safety_result = is_url_safe(user_url)\n",
        "print(\"URL Safety:\", safety_result)"
      ],
      "metadata": {
        "colab": {
          "base_uri": "https://localhost:8080/"
        },
        "id": "g1qtR_BY0_JY",
        "outputId": "fbf3e246-b880-4038-af25-933b3153810a"
      },
      "execution_count": 15,
      "outputs": [
        {
          "output_type": "stream",
          "name": "stdout",
          "text": [
            "Enter the URL to check: https://vtopcc.vit.ac.in/vtop/open/page\n",
            "1/1 [==============================] - 0s 19ms/step\n",
            "URL Safety: Safe\n"
          ]
        }
      ]
    },
    {
      "cell_type": "code",
      "source": [
        "def is_url_safe(url):\n",
        "    # Preprocess the URL\n",
        "    url_sequence = tokenizer.texts_to_sequences([url])\n",
        "    url_sequence_padded = pad_sequences(url_sequence, maxlen=max_sequence_length)\n",
        "\n",
        "    # Predict the safety of the URL using the trained model\n",
        "    prediction = saved_model.predict(url_sequence_padded)\n",
        "\n",
        "    # Convert prediction to human-readable format\n",
        "    if prediction[0][0] >= 0.5:\n",
        "        return \"Safe\"\n",
        "    else:\n",
        "        return \"Unsafe\"\n",
        "\n",
        "# Get URL from the user\n",
        "user_url = input(\"Enter the URL to check: \")\n",
        "\n",
        "# Check the safety of the URL\n",
        "safety_result = is_url_safe(user_url)\n",
        "print(\"URL Safety:\", safety_result)"
      ],
      "metadata": {
        "colab": {
          "base_uri": "https://localhost:8080/"
        },
        "id": "Fmn2tAx1zwaN",
        "outputId": "1350687e-2e5f-43ac-a6da-b2f266cd0b6d"
      },
      "execution_count": 14,
      "outputs": [
        {
          "output_type": "stream",
          "name": "stdout",
          "text": [
            "Enter the URL to check: https://www.bpwhamburgorchardpark.org/\n",
            "1/1 [==============================] - 0s 22ms/step\n",
            "URL Safety: Unsafe\n"
          ]
        }
      ]
    },
    {
      "cell_type": "code",
      "source": [
        "def is_url_safe(url):\n",
        "    # Preprocess the URL\n",
        "    url_sequence = tokenizer.texts_to_sequences([url])\n",
        "    url_sequence_padded = pad_sequences(url_sequence, maxlen=max_sequence_length)\n",
        "\n",
        "    # Predict the safety of the URL using the trained model\n",
        "    prediction = saved_model.predict(url_sequence_padded)\n",
        "\n",
        "    # Convert prediction to human-readable format\n",
        "    if prediction[0][0] >= 0.5:\n",
        "        return \"Safe\"\n",
        "    else:\n",
        "        return \"Unsafe\"\n",
        "\n",
        "# Get URL from the user\n",
        "user_url = input(\"Enter the URL to check: \")\n",
        "\n",
        "# Check the safety of the URL\n",
        "safety_result = is_url_safe(user_url)\n",
        "print(\"URL Safety:\", safety_result)"
      ],
      "metadata": {
        "colab": {
          "base_uri": "https://localhost:8080/"
        },
        "id": "LkMAA71M1Zuw",
        "outputId": "463ddad3-b39d-48d4-abc6-c3c2db21ff13"
      },
      "execution_count": 19,
      "outputs": [
        {
          "output_type": "stream",
          "name": "stdout",
          "text": [
            "Enter the URL to check: https://www.yt118.com/\n",
            "1/1 [==============================] - 0s 32ms/step\n",
            "URL Safety: Unsafe\n"
          ]
        }
      ]
    },
    {
      "cell_type": "code",
      "source": [
        "def is_url_safe(url):\n",
        "    # Preprocess the URL\n",
        "    url_sequence = tokenizer.texts_to_sequences([url])\n",
        "    url_sequence_padded = pad_sequences(url_sequence, maxlen=max_sequence_length)\n",
        "\n",
        "    # Predict the safety of the URL using the trained model\n",
        "    prediction = saved_model.predict(url_sequence_padded)\n",
        "\n",
        "    # Convert prediction to human-readable format\n",
        "    if prediction[0][0] >= 0.5:\n",
        "        return \"Safe\"\n",
        "    else:\n",
        "        return \"Unsafe\"\n",
        "\n",
        "# Get URL from the user\n",
        "user_url = input(\"Enter the URL to check: \")\n",
        "\n",
        "# Check the safety of the URL\n",
        "safety_result = is_url_safe(user_url)\n",
        "print(\"URL Safety:\", safety_result)"
      ],
      "metadata": {
        "id": "VCfwqK7o22ad"
      },
      "execution_count": null,
      "outputs": []
    }
  ]
}